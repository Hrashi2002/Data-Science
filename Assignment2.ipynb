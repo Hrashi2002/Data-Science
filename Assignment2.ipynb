{
 "cells": [
  {
   "cell_type": "code",
   "execution_count": 1,
   "id": "c5e7356d-0e26-46d0-8013-69aa180e57b4",
   "metadata": {},
   "outputs": [],
   "source": [
    "##Q1:\n",
    "    ### \"def\" is the keyword used to create a function\n",
    "def oddNumber(l):\n",
    "    l1=[]\n",
    "    for i in l:\n",
    "        if i%2!=0:\n",
    "            l1.append(i)\n",
    "    return l1\n",
    "    \n",
    "    "
   ]
  },
  {
   "cell_type": "code",
   "execution_count": 4,
   "id": "d287c0d7-6485-4bb7-aedf-e0b1af42e472",
   "metadata": {},
   "outputs": [
    {
     "data": {
      "text/plain": [
       "[1, 3, 5, 7, 9, 11, 13, 15, 17, 19, 21, 23]"
      ]
     },
     "execution_count": 4,
     "metadata": {},
     "output_type": "execute_result"
    }
   ],
   "source": [
    "l=[]\n",
    "for i in range(1,25,1):\n",
    "    l.append(i)\n",
    "oddNumber(l)\n"
   ]
  },
  {
   "cell_type": "code",
   "execution_count": 8,
   "id": "c1ff801a-4fff-42b4-92c7-1374f854f30a",
   "metadata": {},
   "outputs": [
    {
     "name": "stdout",
     "output_type": "stream",
     "text": [
      "1\n",
      "2\n",
      "3\n",
      "4\n"
     ]
    }
   ],
   "source": [
    "###Q2.A:\n",
    "    ### \"*args\" and \"**kwargs\" are used in function definitions to allow a variable number of arguments\n",
    "    ###to be passed to a function.\n",
    "def function1(*args):\n",
    "    for arg in args:\n",
    "        print(arg)\n",
    "\n",
    "function1(1, 2, 3, 4)\n",
    "    \n"
   ]
  },
  {
   "cell_type": "code",
   "execution_count": 9,
   "id": "084202ca-0936-4dfc-8e34-7188349d2cb6",
   "metadata": {},
   "outputs": [
    {
     "name": "stdout",
     "output_type": "stream",
     "text": [
      "name Hrashi\n",
      "course Date science\n",
      "city Delhi\n"
     ]
    }
   ],
   "source": [
    "###Q2.B:\n",
    "    ### \"**kwargs\" allows you to pass a variable number of keyword arguments to a function. \n",
    "    ###It collects all the keyword arguments into a dictionary inside the function.\n",
    "def function2(**kwargs):\n",
    "    for key, value in kwargs.items():\n",
    "        print(key, value)\n",
    "\n",
    "function2(name='Hrashi', course=\"Date science\", city='Delhi')\n"
   ]
  },
  {
   "cell_type": "code",
   "execution_count": 13,
   "id": "91aea682-753b-4b84-a103-7a5548238ff9",
   "metadata": {},
   "outputs": [
    {
     "name": "stdout",
     "output_type": "stream",
     "text": [
      "2\n",
      "4\n",
      "6\n",
      "8\n",
      "10\n"
     ]
    }
   ],
   "source": [
    "###Q3:\n",
    "    ### an iterator is an object that implements the iterator protocol, which consists of the \"iter()\" method \n",
    "    ### and the \"next()\" method.\n",
    "    ### The \"iter()\" method is used to initialize the iterator object.and \"next()\" method is called on the iterator \n",
    "    ### object to retrieve the next element in the sequence.\n",
    "\n",
    "my_list = [2, 4, 6, 8, 10, 12, 14, 16, 18, 20]\n",
    "my_iterator = iter(my_list) # Create an iterator object using iter()\n",
    "\n",
    "for i in range(5):\n",
    "    # Iterate over the first five elements using next()\n",
    "    element = next(my_iterator)\n",
    "    print(element)\n"
   ]
  },
  {
   "cell_type": "code",
   "execution_count": 14,
   "id": "d5daa5e4-52c5-4072-a250-8d74f24f78e4",
   "metadata": {},
   "outputs": [
    {
     "name": "stdout",
     "output_type": "stream",
     "text": [
      "0\n",
      "2\n",
      "4\n",
      "6\n",
      "8\n"
     ]
    }
   ],
   "source": [
    "###Q4:\n",
    "\n",
    "###A generator function is a special kind of function that returns an iterator, which can be iterated over to generate a sequence of values. \n",
    "###It uses the yield keyword instead of return to produce a series of values, one at a time, on each iteration.\n",
    "### The yield keyword is used within a generator function to temporarily suspend the function's execution and return a value to the caller. \n",
    "###The state of the generator function is saved so that it can be resumed from where it left off the next time the iterator's \"next()\" method is called. \n",
    "###This allows generator functions to generate a sequence of values efficiently without needing to compute and store all the values in memory at once.\n",
    "def even_numbers(n):\n",
    "    for i in range(n):\n",
    "        if i % 2 == 0:\n",
    "            yield i\n",
    "\n",
    "# Using the generator function to iterate over even numbers\n",
    "for num in even_numbers(10):\n",
    "    print(num)\n",
    "\n",
    "    \n"
   ]
  },
  {
   "cell_type": "code",
   "execution_count": 16,
   "id": "760ebe03-a256-4beb-b3df-b0adab46a5ea",
   "metadata": {},
   "outputs": [
    {
     "name": "stdout",
     "output_type": "stream",
     "text": [
      "2\n",
      "3\n",
      "5\n",
      "7\n",
      "11\n",
      "13\n",
      "17\n",
      "19\n",
      "23\n",
      "29\n",
      "31\n",
      "37\n",
      "41\n",
      "43\n",
      "47\n",
      "53\n",
      "59\n",
      "61\n",
      "67\n",
      "71\n"
     ]
    }
   ],
   "source": [
    "###Q5:\n",
    "def primes_generator():\n",
    "    yield 2  # First prime number\n",
    "    primes = [2]\n",
    "    num = 3\n",
    "    while num < 1000:\n",
    "        is_prime = True\n",
    "        for prime in primes:\n",
    "            if num % prime == 0:\n",
    "                is_prime = False\n",
    "                break\n",
    "        if is_prime:\n",
    "            yield num\n",
    "            primes.append(num)\n",
    "        num += 1\n",
    "\n",
    "primes = primes_generator()\n",
    "for i in range(20):\n",
    "    prime = next(primes)\n",
    "    print(prime)\n"
   ]
  },
  {
   "cell_type": "code",
   "execution_count": 19,
   "id": "fe9a6e65-1981-448d-8cc1-da17c5014b10",
   "metadata": {},
   "outputs": [
    {
     "name": "stdout",
     "output_type": "stream",
     "text": [
      "0\n",
      "1\n",
      "1\n",
      "2\n",
      "3\n",
      "5\n",
      "8\n",
      "13\n",
      "21\n",
      "34\n"
     ]
    }
   ],
   "source": [
    "###Q6:\n",
    "\n",
    "i = 0\n",
    "a,b = 0, 1\n",
    "\n",
    "\n",
    "while i < 10:\n",
    "    print(a)\n",
    "    c = a + b\n",
    "    a = b\n",
    "    b=c\n",
    "\n",
    "    i += 1\n"
   ]
  },
  {
   "cell_type": "code",
   "execution_count": 23,
   "id": "e05b06cc-3236-4f80-acd6-93888d4a6e68",
   "metadata": {},
   "outputs": [],
   "source": [
    "###Q7\n",
    "s=\"pwskills\"\n",
    "s1=iter(s)\n",
    "l=[]\n",
    "for i in range(len(s)):\n",
    "    l.append(next(s1))"
   ]
  },
  {
   "cell_type": "code",
   "execution_count": 24,
   "id": "5737c203-2e0b-487b-8bd3-2dd9eedf6300",
   "metadata": {},
   "outputs": [
    {
     "data": {
      "text/plain": [
       "['p', 'w', 's', 'k', 'i', 'l', 'l', 's']"
      ]
     },
     "execution_count": 24,
     "metadata": {},
     "output_type": "execute_result"
    }
   ],
   "source": [
    "l"
   ]
  },
  {
   "cell_type": "code",
   "execution_count": 27,
   "id": "3ee8af0f-d3e1-4a2c-8511-f2e6bb8b02bf",
   "metadata": {},
   "outputs": [
    {
     "name": "stdout",
     "output_type": "stream",
     "text": [
      "is palindrome\n"
     ]
    }
   ],
   "source": [
    "###Q8:\n",
    "word=\"racecar\"\n",
    "i=0\n",
    "j=len(word)-1\n",
    "y=True\n",
    "while i<=j:\n",
    "    if(word[i]!=word[j]):\n",
    "        y=False\n",
    "    i+=1\n",
    "    j-=1\n",
    "if(y):\n",
    "    print(\"is palindrome\")\n",
    "else:\n",
    "    print(\"not a palindrome\")\n"
   ]
  },
  {
   "cell_type": "code",
   "execution_count": 31,
   "id": "c203d632-0268-4164-9af1-479c19c66a05",
   "metadata": {},
   "outputs": [],
   "source": [
    "###Q9:\n",
    "l=[]\n",
    "for i in range(1,100,1):\n",
    "    l.append(i)\n"
   ]
  },
  {
   "cell_type": "code",
   "execution_count": 32,
   "id": "731c95b4-1a61-4820-8150-fd9839f7f77f",
   "metadata": {},
   "outputs": [],
   "source": [
    "l2=list(filter(lambda x:x%2!=0,l))"
   ]
  },
  {
   "cell_type": "code",
   "execution_count": 33,
   "id": "adef4415-0cc0-47b1-a2f7-f9c7aa6152c4",
   "metadata": {},
   "outputs": [
    {
     "data": {
      "text/plain": [
       "[1,\n",
       " 3,\n",
       " 5,\n",
       " 7,\n",
       " 9,\n",
       " 11,\n",
       " 13,\n",
       " 15,\n",
       " 17,\n",
       " 19,\n",
       " 21,\n",
       " 23,\n",
       " 25,\n",
       " 27,\n",
       " 29,\n",
       " 31,\n",
       " 33,\n",
       " 35,\n",
       " 37,\n",
       " 39,\n",
       " 41,\n",
       " 43,\n",
       " 45,\n",
       " 47,\n",
       " 49,\n",
       " 51,\n",
       " 53,\n",
       " 55,\n",
       " 57,\n",
       " 59,\n",
       " 61,\n",
       " 63,\n",
       " 65,\n",
       " 67,\n",
       " 69,\n",
       " 71,\n",
       " 73,\n",
       " 75,\n",
       " 77,\n",
       " 79,\n",
       " 81,\n",
       " 83,\n",
       " 85,\n",
       " 87,\n",
       " 89,\n",
       " 91,\n",
       " 93,\n",
       " 95,\n",
       " 97,\n",
       " 99]"
      ]
     },
     "execution_count": 33,
     "metadata": {},
     "output_type": "execute_result"
    }
   ],
   "source": [
    "l2"
   ]
  },
  {
   "cell_type": "code",
   "execution_count": null,
   "id": "de0b7cbc-9d92-4821-a892-c4ec0935725b",
   "metadata": {},
   "outputs": [],
   "source": []
  }
 ],
 "metadata": {
  "kernelspec": {
   "display_name": "Python 3 (ipykernel)",
   "language": "python",
   "name": "python3"
  },
  "language_info": {
   "codemirror_mode": {
    "name": "ipython",
    "version": 3
   },
   "file_extension": ".py",
   "mimetype": "text/x-python",
   "name": "python",
   "nbconvert_exporter": "python",
   "pygments_lexer": "ipython3",
   "version": "3.10.8"
  }
 },
 "nbformat": 4,
 "nbformat_minor": 5
}
