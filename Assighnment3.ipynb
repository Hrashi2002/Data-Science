{
 "cells": [
  {
   "cell_type": "code",
   "execution_count": 1,
   "id": "2d096712-9773-4933-b89d-6a4796f0318f",
   "metadata": {},
   "outputs": [
    {
     "name": "stdout",
     "output_type": "stream",
     "text": [
      "[('Virat Kohli', 24936), ('Jack Kallis', 25534), ('Ricky Ponting', 27483), ('Sachin Tendulkar', 34357)]\n"
     ]
    }
   ],
   "source": [
    "###Q1:\n",
    "data = [('Sachin Tendulkar', 34357), ('Ricky Ponting', 27483), ('Jack Kallis', 25534), ('Virat Kohli', 24936)]\n",
    "sorted_data = sorted(data, key=lambda x: x[1])\n",
    "print(sorted_data)\n"
   ]
  },
  {
   "cell_type": "code",
   "execution_count": 3,
   "id": "feaf03d5-0c45-4715-9ee0-c9cd52550e0e",
   "metadata": {},
   "outputs": [
    {
     "data": {
      "text/plain": [
       "[1, 4, 9, 16, 25, 36, 49, 64, 81, 100]"
      ]
     },
     "execution_count": 3,
     "metadata": {},
     "output_type": "execute_result"
    }
   ],
   "source": [
    "###Q2.A:\n",
    "l=[1,2,3,4,5,6,7,8,9,10]\n",
    "a=lambda x:x**2\n",
    "l1=[]\n",
    "for i in l:\n",
    "    l1.append(a(i))\n",
    "l1"
   ]
  },
  {
   "cell_type": "code",
   "execution_count": 4,
   "id": "535a1aa1-6505-4aeb-a9a5-4b8bf2d20bc7",
   "metadata": {},
   "outputs": [
    {
     "data": {
      "text/plain": [
       "[1, 4, 9, 16, 25, 36, 49, 64, 81, 100]"
      ]
     },
     "execution_count": 4,
     "metadata": {},
     "output_type": "execute_result"
    }
   ],
   "source": [
    "###Q2.B:\n",
    "l2=list(map(lambda x:x**2,l))\n",
    "l2"
   ]
  },
  {
   "cell_type": "code",
   "execution_count": 23,
   "id": "93b1c960-6b98-4f7d-9a7b-433f7ba64e94",
   "metadata": {},
   "outputs": [
    {
     "data": {
      "text/plain": [
       "('1', '2', '3', '4', '5', '6', '7', '8', '9', '10')"
      ]
     },
     "execution_count": 23,
     "metadata": {},
     "output_type": "execute_result"
    }
   ],
   "source": [
    "###Q3.A:\n",
    "l=[1,2,3,4,5,6,7,8,9,10]\n",
    "b=lambda x:str(x)\n",
    "l1=[]\n",
    "for i in l:\n",
    "    l1.append(b(i))\n",
    "l3=tuple(l1)\n",
    "l3"
   ]
  },
  {
   "cell_type": "code",
   "execution_count": 22,
   "id": "b781d458-9c37-4490-a09a-7ae47cc5e0a6",
   "metadata": {},
   "outputs": [
    {
     "data": {
      "text/plain": [
       "('1', '2', '3', '4', '5', '6', '7', '8', '9', '10')"
      ]
     },
     "execution_count": 22,
     "metadata": {},
     "output_type": "execute_result"
    }
   ],
   "source": [
    "###Q3.B:\n",
    "l2=list((map(lambda x:str(x),l)))\n",
    "l3=tuple(l2)\n",
    "l3"
   ]
  },
  {
   "cell_type": "code",
   "execution_count": 27,
   "id": "ebb19530-dd8a-443d-bdb0-6bd5829ae930",
   "metadata": {},
   "outputs": [
    {
     "data": {
      "text/plain": [
       "15511210043330985984000000"
      ]
     },
     "execution_count": 27,
     "metadata": {},
     "output_type": "execute_result"
    }
   ],
   "source": [
    "###Q4:\n",
    "from functools import reduce\n",
    "l=[]\n",
    "for i in range(1,26,1):\n",
    "    l.append(i)\n",
    "l2=reduce(lambda x,y:x*y,l)\n",
    "l2\n"
   ]
  },
  {
   "cell_type": "code",
   "execution_count": 35,
   "id": "43fa3971-e9b8-4276-a3e8-b794501c1f48",
   "metadata": {},
   "outputs": [
    {
     "data": {
      "text/plain": [
       "[6, 60, 90, 120]"
      ]
     },
     "execution_count": 35,
     "metadata": {},
     "output_type": "execute_result"
    }
   ],
   "source": [
    "###Q5:\n",
    "data=[2, 3, 6, 9, 27, 60, 90, 120, 55, 46]\n",
    "def divisible(x):\n",
    "    if x%2==0 and x%3==0:\n",
    "        return x\n",
    "l2=list(filter(divisible,data))   \n",
    "l2"
   ]
  },
  {
   "cell_type": "code",
   "execution_count": 37,
   "id": "9babfec0-8ac6-46d2-b867-61e35f4045af",
   "metadata": {},
   "outputs": [
    {
     "data": {
      "text/plain": [
       "['php', 'aba', 'radar', 'level']"
      ]
     },
     "execution_count": 37,
     "metadata": {},
     "output_type": "execute_result"
    }
   ],
   "source": [
    "###Q6:\n",
    "data=['python', 'php', 'aba', 'radar', 'level']\n",
    "palindromes = list(filter(lambda x: x == x[::-1],data))\n",
    "palindromes\n"
   ]
  },
  {
   "cell_type": "code",
   "execution_count": null,
   "id": "9b0e3207-850c-4701-92f2-7dcdf5c13749",
   "metadata": {},
   "outputs": [],
   "source": []
  }
 ],
 "metadata": {
  "kernelspec": {
   "display_name": "Python 3 (ipykernel)",
   "language": "python",
   "name": "python3"
  },
  "language_info": {
   "codemirror_mode": {
    "name": "ipython",
    "version": 3
   },
   "file_extension": ".py",
   "mimetype": "text/x-python",
   "name": "python",
   "nbconvert_exporter": "python",
   "pygments_lexer": "ipython3",
   "version": "3.10.8"
  }
 },
 "nbformat": 4,
 "nbformat_minor": 5
}
