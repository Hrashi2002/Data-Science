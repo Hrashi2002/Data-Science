{
 "cells": [
  {
   "cell_type": "code",
   "execution_count": null,
   "id": "74c60745-0e17-4294-b4eb-9d3f01eec83d",
   "metadata": {},
   "outputs": [],
   "source": [
    "###Q1:\n",
    "###   In object-oriented programming (OOP), a class is a blueprint or template for creating objects,\n",
    "###   while an object is an instance of a class. \n",
    "###   A class defines the common properties (attributes) and behaviors (methods) that objects of that class can have. \n",
    "###   It encapsulates data and the operations that can be performed on that data."
   ]
  },
  {
   "cell_type": "code",
   "execution_count": null,
   "id": "80cbb230-a417-4193-b23e-57bff51599f8",
   "metadata": {},
   "outputs": [],
   "source": [
    "###Q2:\n",
    "### The four pillars of OOPs are abstraction, encapsulation, inheritance, and polymorphism."
   ]
  },
  {
   "cell_type": "code",
   "execution_count": 1,
   "id": "4ee98fa1-97b9-4776-a288-f4da65c0000e",
   "metadata": {},
   "outputs": [],
   "source": [
    "###Q3:\n",
    "### The __init__() function, also known as the constructor, is a special method in Python classes. \n",
    "### It is automatically called when an object is created from a class. \n",
    "### The primary purpose of the __init__() function is to initialize the attributes of an object with the provided values or with default values.\n",
    "\n",
    "class pwskills:\n",
    "    def __init__(self,phone,email,i):\n",
    "        self.phone=phone\n",
    "        self.email=email\n",
    "        self.i=i\n",
    "    def return_value(self):\n",
    "        return self.phone, self.email, self.i"
   ]
  },
  {
   "cell_type": "code",
   "execution_count": 2,
   "id": "5c8fc38b-3876-4244-8a6f-86f72581d373",
   "metadata": {},
   "outputs": [],
   "source": [
    "hrashi=pwskills(1,1,1)"
   ]
  },
  {
   "cell_type": "code",
   "execution_count": 3,
   "id": "2984ebd3-1bcd-4e16-9f87-7003100b7b0f",
   "metadata": {},
   "outputs": [
    {
     "data": {
      "text/plain": [
       "(1, 1, 1)"
      ]
     },
     "execution_count": 3,
     "metadata": {},
     "output_type": "execute_result"
    }
   ],
   "source": [
    "hrashi.return_value()"
   ]
  },
  {
   "cell_type": "code",
   "execution_count": 4,
   "id": "a654c692-5512-4624-a2e5-fdbfedf177bd",
   "metadata": {},
   "outputs": [],
   "source": [
    "###Q4:\n",
    "\n",
    "### In object-oriented programming (OOP), self is a convention used as a reference to the current instance of a class. \n",
    "### It is a parameter that is passed implicitly to instance methods within a class. \n",
    "### It allows accessing the attributes and methods of the object that the method is being called on.\n",
    "\n",
    "### The use of self is important for several reasons:\n",
    "\n",
    "### Accessing instance variables: The self parameter provides a way to access the instance variables (attributes) of an object. By using self.attribute_name, you can refer to and modify the specific attribute of the current object. This allows each object to maintain its own state and store unique data.\n",
    "\n",
    "### Calling other methods: self is necessary to call other instance methods within the class. It ensures that the methods are invoked on the correct object. Without self, there would be no way to distinguish between the same method names defined in different instances of the class.\n",
    "\n",
    "### Differentiating between instance and local variables: self helps to differentiate between instance variables and local variables within a method. It indicates that a particular variable is an attribute of the object and should be accessed or modified using the self reference. This helps avoid conflicts or confusion between local variables and object attributes.\n",
    "\n",
    "### Enabling method chaining: self allows for method chaining, where multiple methods can be called in sequence on the same object. By returning self at the end of a method, it becomes possible to call another method on the same object immediately. This promotes a more concise and fluent coding style."
   ]
  },
  {
   "cell_type": "code",
   "execution_count": null,
   "id": "97f258b0-7056-449c-94ef-53c6d1f17550",
   "metadata": {},
   "outputs": [],
   "source": [
    "###Q5:\n",
    "### Inheritance is a fundamental concept in object-oriented programming (OOP) that allows the creation of new classes (derived or child classes) based on existing classes (base or parent classes). The derived classes inherit the attributes and behaviors of the base classes, and they can also add their own unique attributes and behaviors or override the existing ones.\n",
    "\n",
    "### Inheritance promotes code reuse, modularity, and hierarchical organization of classes. It allows for the creation of a class hierarchy where higher-level classes (base classes) define more general attributes and behaviors, and lower-level classes (derived classes) specialize or extend those attributes and behaviors.\n",
    "\n",
    "### There are several types of inheritance:\n",
    "\n",
    "### Single Inheritance: Single inheritance occurs when a derived class inherits from a single base class. It represents a one-to-one inheritance relationship.\n",
    "### ex : In this example, the Animal class is the base class, and the Dog class is the derived class. The Dog class inherits the eat() method from the Animal class and adds its own method bark(). The Dog object can call both methods, as it inherits the behavior from the Animal class and has its own specialized behavior.\n",
    "\n",
    "### Multiple Inheritance: Multiple inheritance occurs when a derived class inherits from multiple base classes. It allows the derived class to inherit attributes and behaviors from multiple sources.\n",
    "### ex: In this example, the Vehicle class and the CanFly class are the base classes, while the Car class and the FlyingCar class are the derived classes. The FlyingCar class inherits the move() method from the Vehicle class and the fly() method from the CanFly class. It can also access the honk() method defined in the Car class. Thus, the FlyingCar object inherits and combines the behaviors from multiple base classes.\n",
    "\n",
    "### Multilevel Inheritance: Multilevel inheritance occurs when a derived class inherits from another derived class. It represents a chain of inheritance.\n"
   ]
  }
 ],
 "metadata": {
  "kernelspec": {
   "display_name": "Python 3 (ipykernel)",
   "language": "python",
   "name": "python3"
  },
  "language_info": {
   "codemirror_mode": {
    "name": "ipython",
    "version": 3
   },
   "file_extension": ".py",
   "mimetype": "text/x-python",
   "name": "python",
   "nbconvert_exporter": "python",
   "pygments_lexer": "ipython3",
   "version": "3.10.8"
  }
 },
 "nbformat": 4,
 "nbformat_minor": 5
}
