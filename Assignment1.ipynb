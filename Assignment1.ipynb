{
 "cells": [
  {
   "cell_type": "code",
   "execution_count": 25,
   "id": "008d6497-036c-4a2c-a2ca-36ac8534299b",
   "metadata": {},
   "outputs": [],
   "source": [
    "\"\"\"q1:-\n",
    "A for loop and a while loop are both used in Python for iteration, but they have different use cases depending on the situation. \n",
    "Here are some examples of when to use each type of loop:\n",
    "Use a for loop when you have a sequence of elements and you want to iterate over them one by one. For example:\"\"\"\n",
    "\n",
    "###for loop example:\n",
    "numbers = [1, 2, 3, 4, 5]\n",
    "for num in numbers:\n",
    "    print(num)\n",
    "\n",
    "    \n",
    "\"\"\" while loop usage: Use a while loop when you want to keep iterating until a certain condition is met\"\"\"\n",
    "\n",
    "###example of a while loop:\n",
    "a=1\n",
    "while a<10:\n",
    "    print(a)\n",
    "    a=a+1\n",
    "\n"
   ]
  },
  {
   "cell_type": "code",
   "execution_count": 30,
   "id": "62eef57d-fe79-4321-b1b3-ffa2f023a032",
   "metadata": {},
   "outputs": [
    {
     "name": "stdout",
     "output_type": "stream",
     "text": [
      "55\n"
     ]
    }
   ],
   "source": [
    "### Q2:-\n",
    "\n",
    "result=0\n",
    "i=0\n",
    "while i <=10:\n",
    "    result=result+i\n",
    "    i=i+1\n",
    "print(result)"
   ]
  },
  {
   "cell_type": "code",
   "execution_count": 34,
   "id": "7803febb-27e4-48d3-b6dc-288d4b421c80",
   "metadata": {},
   "outputs": [
    {
     "name": "stdin",
     "output_type": "stream",
     "text": [
      "Enter the number of units consumed:  310\n"
     ]
    },
    {
     "name": "stdout",
     "output_type": "stream",
     "text": [
      "2250.0\n"
     ]
    }
   ],
   "source": [
    "###Q3:-\n",
    "units=int(input(\"Enter the number of units consumed: \"))\n",
    "\n",
    "if units<=100:\n",
    "    bill = units*4.5\n",
    "elif units<=200:\n",
    "    bill=100*4.5+(units-100)*6\n",
    "elif units<=300:\n",
    "    bill=100*4.5+100*6+(units-200)*10\n",
    "else:\n",
    "    bill=100*4.5+100*6+100*10+(units-300)*20\n",
    "\n",
    "print(bill)\n",
    "\n",
    "\n",
    "        "
   ]
  },
  {
   "cell_type": "code",
   "execution_count": 42,
   "id": "2856cb06-281c-4246-9d65-ee6fa32b0caa",
   "metadata": {},
   "outputs": [
    {
     "name": "stdout",
     "output_type": "stream",
     "text": [
      "[2, 4, 5, 6, 8, 10, 12, 14, 15, 16, 18, 20, 22, 24, 25, 26, 28, 30, 32, 34, 35, 36, 38, 40, 42, 44, 45, 46, 48, 50, 52, 54, 55, 56, 58, 60, 62, 64, 65, 66, 68, 70, 72, 74, 75, 76, 78, 80, 82, 84, 85, 86, 88, 90, 92, 94, 95, 96, 98, 100]\n",
      "[2, 4, 5, 6, 8, 10, 12, 14, 15, 16, 18, 20, 22, 24, 25, 26, 28, 30, 32, 34, 35, 36, 38, 40, 42, 44, 45, 46, 48, 50, 52, 54, 55, 56, 58, 60, 62, 64, 65, 66, 68, 70, 72, 74, 75, 76, 78, 80, 82, 84, 85, 86, 88, 90, 92, 94, 95, 96, 98, 100]\n"
     ]
    }
   ],
   "source": [
    "###Q4:-\n",
    "cubes = []\n",
    "\n",
    "### Using a for loop\n",
    "for num in range(1, 101):\n",
    "    cube = num ** 3\n",
    "    if cube % 4 == 0 or cube % 5 == 0:\n",
    "        cubes.append(num)\n",
    "\n",
    "print(cubes)\n",
    "\n",
    "### Using a while loop\n",
    "cubes = []\n",
    "num = 1\n",
    "\n",
    "while num <= 100:\n",
    "    cube = num ** 3\n",
    "    if cube % 4 == 0 or cube % 5 == 0:\n",
    "        cubes.append(num)\n",
    "    num += 1\n",
    "\n",
    "print(cubes)\n",
    "\n"
   ]
  },
  {
   "cell_type": "code",
   "execution_count": 48,
   "id": "ad146796-daec-4518-a180-5889c1cc6ef2",
   "metadata": {},
   "outputs": [
    {
     "name": "stdout",
     "output_type": "stream",
     "text": [
      "12\n"
     ]
    }
   ],
   "source": [
    "###Q5:-\n",
    "string = \"I want to become a data scientist\"\n",
    "count = 0\n",
    "for i in string:\n",
    "    if(i=='a'or i=='e'or i=='i'or i=='o'or i=='u'or i=='A'or i=='E'or i=='I'or i=='O'or i=='U'):\n",
    "        count+=1\n",
    "print(count)\n",
    "\n",
    "\n"
   ]
  },
  {
   "cell_type": "code",
   "execution_count": null,
   "id": "22c64c1d-ded0-46a7-82d5-56976c31e664",
   "metadata": {},
   "outputs": [],
   "source": []
  }
 ],
 "metadata": {
  "kernelspec": {
   "display_name": "Python 3 (ipykernel)",
   "language": "python",
   "name": "python3"
  },
  "language_info": {
   "codemirror_mode": {
    "name": "ipython",
    "version": 3
   },
   "file_extension": ".py",
   "mimetype": "text/x-python",
   "name": "python",
   "nbconvert_exporter": "python",
   "pygments_lexer": "ipython3",
   "version": "3.10.8"
  }
 },
 "nbformat": 4,
 "nbformat_minor": 5
}
