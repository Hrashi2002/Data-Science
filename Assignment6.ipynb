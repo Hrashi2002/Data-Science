{
 "cells": [
  {
   "cell_type": "code",
   "execution_count": 5,
   "id": "ff98d5db-e326-493b-9700-ee313f6718ca",
   "metadata": {},
   "outputs": [
    {
     "name": "stdin",
     "output_type": "stream",
     "text": [
      "enter your marks!!! 67\n"
     ]
    },
    {
     "name": "stdout",
     "output_type": "stream",
     "text": [
      "Grade: C\n"
     ]
    }
   ],
   "source": [
    "###Q1:\n",
    "n=int(input(\"enter your marks!!!\"))\n",
    "if n>90:\n",
    "    print(\"Grade: A\")\n",
    "elif n>80 and n<=90:\n",
    "    print(\"Grade: B\")\n",
    "elif n>=60 and n<=80:\n",
    "    print(\"Grade: C\")\n",
    "else:\n",
    "    print(\"Grade: D\")"
   ]
  },
  {
   "cell_type": "code",
   "execution_count": 8,
   "id": "bbbc1ef5-cf2e-40b8-853d-2b7f1b4f856c",
   "metadata": {},
   "outputs": [
    {
     "name": "stdin",
     "output_type": "stream",
     "text": [
      "enter the cost of bike!!! 890454\n"
     ]
    },
    {
     "name": "stdout",
     "output_type": "stream",
     "text": [
      "133568.1\n"
     ]
    }
   ],
   "source": [
    "### Q2:\n",
    "n=int(input(\"enter the cost of bike!!!\"))\n",
    "tax=1\n",
    "if n>100000:\n",
    "    tax=n*0.15\n",
    "elif n>50000 and n<=100000:\n",
    "    tax=n*0.10\n",
    "else:\n",
    "    tax=n*0.05\n",
    "    \n",
    "print(tax)"
   ]
  },
  {
   "cell_type": "code",
   "execution_count": 9,
   "id": "523b60a8-f956-4d9a-b1f9-597814d3131c",
   "metadata": {},
   "outputs": [
    {
     "name": "stdin",
     "output_type": "stream",
     "text": [
      "enter the city name!!! Delhi\n"
     ]
    },
    {
     "name": "stdout",
     "output_type": "stream",
     "text": [
      "Red Fort\n"
     ]
    }
   ],
   "source": [
    "### Q3:\n",
    "city=input(\"enter the city name!!!\")\n",
    "if city==\"Delhi\":\n",
    "    print(\"Red Fort\")\n",
    "elif city==\"Agra\":\n",
    "    print(\"Taj Mahal\")\n",
    "elif city==\"Jaipur\":\n",
    "    print(\"Jal Mahal\")\n",
    "    "
   ]
  },
  {
   "cell_type": "code",
   "execution_count": 13,
   "id": "ceb96f13-6c83-4136-be78-53593d5e573b",
   "metadata": {},
   "outputs": [
    {
     "name": "stdin",
     "output_type": "stream",
     "text": [
      "enter the number 100\n"
     ]
    },
    {
     "name": "stdout",
     "output_type": "stream",
     "text": [
      "3\n"
     ]
    }
   ],
   "source": [
    "###Q4:\n",
    "n=int(input(\"enter the number\"))\n",
    "count=0\n",
    "while n>=10:\n",
    "    n=n/3\n",
    "    count+=1\n",
    "print(count)"
   ]
  },
  {
   "cell_type": "code",
   "execution_count": 14,
   "id": "4258ee06-ba7f-4ee1-a623-0bfe5240de8a",
   "metadata": {},
   "outputs": [
    {
     "name": "stdout",
     "output_type": "stream",
     "text": [
      "1\n",
      "2\n",
      "3\n",
      "4\n",
      "5\n"
     ]
    }
   ],
   "source": [
    "###Q5:\n",
    "### When the number of iterations is unknown: While loops are useful when you don't know in advance how many times you need to repeat a certain task. The loop continues until the condition becomes false, allowing for flexible control flow.\n",
    "\n",
    "### Iterating until a specific condition is met: While loops can be used to iterate until a specific condition is met. You can define the condition within the loop, and the loop will continue until that condition evaluates to false.\n",
    "\n",
    "### User-controlled loops: While loops are commonly used when the loop should continue as long as the user wants to interact with the program. For example, prompting the user for input until they provide a valid response or until they choose to exit the program.\n",
    "\n",
    "### Processing data until completion: While loops can be used when you need to process a certain set of data until it is completely processed or a specific condition is met. For example, reading lines from a file until the end of the file is reached or processing a list until a particular element is found.\n",
    "\n",
    "### Dynamic condition-based iterations: While loops allow you to dynamically update the condition within the loop based on certain criteria. This flexibility allows you to respond to changing conditions and adapt the loop's behavior accordingly.\n",
    "\n",
    "# Program to print numbers from 1 to 5 using a while loop\n",
    "count = 1\n",
    "while count <= 5:\n",
    "    print(count)\n",
    "    count += 1\n",
    "\n",
    "\n"
   ]
  },
  {
   "cell_type": "code",
   "execution_count": 17,
   "id": "53d5a2c3-77c4-40a5-96dd-997e87d06080",
   "metadata": {},
   "outputs": [
    {
     "name": "stdout",
     "output_type": "stream",
     "text": [
      "*\n",
      "**\n",
      "***\n",
      "****\n",
      "*****\n"
     ]
    }
   ],
   "source": [
    "### Q6.A:\n",
    "row = 1\n",
    "while row <= 5:\n",
    "    col = 1\n",
    "    while col <= row:\n",
    "        print(\"*\", end=\"\")\n",
    "        col += 1\n",
    "    print()\n",
    "    row += 1\n"
   ]
  },
  {
   "cell_type": "code",
   "execution_count": 18,
   "id": "45254aa4-3f3b-4c49-afb2-5b15ab1e18ec",
   "metadata": {},
   "outputs": [
    {
     "name": "stdout",
     "output_type": "stream",
     "text": [
      "1\n",
      "22\n",
      "333\n",
      "4444\n",
      "55555\n"
     ]
    }
   ],
   "source": [
    "###Q6.B:\n",
    "row = 1\n",
    "while row <= 5:\n",
    "    col = 1\n",
    "    while col <= row:\n",
    "        print(row, end=\"\")\n",
    "        col += 1\n",
    "    print()\n",
    "    row += 1\n"
   ]
  },
  {
   "cell_type": "code",
   "execution_count": null,
   "id": "4c149e46-8165-4bb3-9cf5-e5c685d4fa37",
   "metadata": {},
   "outputs": [],
   "source": [
    "###Q6.C:\n"
   ]
  }
 ],
 "metadata": {
  "kernelspec": {
   "display_name": "Python 3 (ipykernel)",
   "language": "python",
   "name": "python3"
  },
  "language_info": {
   "codemirror_mode": {
    "name": "ipython",
    "version": 3
   },
   "file_extension": ".py",
   "mimetype": "text/x-python",
   "name": "python",
   "nbconvert_exporter": "python",
   "pygments_lexer": "ipython3",
   "version": "3.10.8"
  }
 },
 "nbformat": 4,
 "nbformat_minor": 5
}
